{
 "cells": [
  {
   "cell_type": "code",
   "execution_count": 1,
   "id": "12c0bca8",
   "metadata": {
    "_cell_guid": "b1076dfc-b9ad-4769-8c92-a6c4dae69d19",
    "_uuid": "8f2839f25d086af736a60e9eeb907d3b93b6e0e5",
    "execution": {
     "iopub.execute_input": "2024-02-15T19:20:26.220070Z",
     "iopub.status.busy": "2024-02-15T19:20:26.219556Z",
     "iopub.status.idle": "2024-02-15T19:20:29.466385Z",
     "shell.execute_reply": "2024-02-15T19:20:29.464754Z"
    },
    "papermill": {
     "duration": 3.264089,
     "end_time": "2024-02-15T19:20:29.469962",
     "exception": false,
     "start_time": "2024-02-15T19:20:26.205873",
     "status": "completed"
    },
    "tags": []
   },
   "outputs": [
    {
     "name": "stdout",
     "output_type": "stream",
     "text": [
      "/kaggle/input/titanic/train.csv\n",
      "/kaggle/input/titanic/test.csv\n",
      "/kaggle/input/titanic/gender_submission.csv\n"
     ]
    }
   ],
   "source": [
    "import numpy as np\n",
    "import pandas as pd\n",
    "from sklearn.compose import make_column_transformer\n",
    "from sklearn.preprocessing import OneHotEncoder\n",
    "from sklearn.model_selection import train_test_split\n",
    "from sklearn.svm import LinearSVC\n",
    "from sklearn.dummy import DummyClassifier\n",
    "from sklearn.tree import DecisionTreeClassifier\n",
    "from sklearn.tree import plot_tree\n",
    "import matplotlib.pyplot as plt\n",
    "from sklearn.preprocessing import MinMaxScaler\n",
    "from sklearn.neighbors import KNeighborsClassifier\n",
    "from sklearn.metrics import confusion_matrix\n",
    "from sklearn.metrics import accuracy_score\n",
    "from sklearn.metrics import precision_score\n",
    "from sklearn.metrics import recall_score\n",
    "\n",
    "import os\n",
    "for dirname, _, filenames in os.walk('/kaggle/input'):\n",
    "    for filename in filenames:\n",
    "        print(os.path.join(dirname, filename))\n",
    "        \n",
    "SEED = 5\n",
    "np.random.seed(SEED)"
   ]
  },
  {
   "cell_type": "code",
   "execution_count": 2,
   "id": "00f09c39",
   "metadata": {
    "execution": {
     "iopub.execute_input": "2024-02-15T19:20:29.496584Z",
     "iopub.status.busy": "2024-02-15T19:20:29.495168Z",
     "iopub.status.idle": "2024-02-15T19:20:29.563911Z",
     "shell.execute_reply": "2024-02-15T19:20:29.562430Z"
    },
    "papermill": {
     "duration": 0.085199,
     "end_time": "2024-02-15T19:20:29.566835",
     "exception": false,
     "start_time": "2024-02-15T19:20:29.481636",
     "status": "completed"
    },
    "tags": []
   },
   "outputs": [
    {
     "data": {
      "text/html": [
       "<div>\n",
       "<style scoped>\n",
       "    .dataframe tbody tr th:only-of-type {\n",
       "        vertical-align: middle;\n",
       "    }\n",
       "\n",
       "    .dataframe tbody tr th {\n",
       "        vertical-align: top;\n",
       "    }\n",
       "\n",
       "    .dataframe thead th {\n",
       "        text-align: right;\n",
       "    }\n",
       "</style>\n",
       "<table border=\"1\" class=\"dataframe\">\n",
       "  <thead>\n",
       "    <tr style=\"text-align: right;\">\n",
       "      <th></th>\n",
       "      <th>PassengerId</th>\n",
       "      <th>Survived</th>\n",
       "      <th>Pclass</th>\n",
       "      <th>Name</th>\n",
       "      <th>Sex</th>\n",
       "      <th>Age</th>\n",
       "      <th>SibSp</th>\n",
       "      <th>Parch</th>\n",
       "      <th>Ticket</th>\n",
       "      <th>Fare</th>\n",
       "      <th>Cabin</th>\n",
       "      <th>Embarked</th>\n",
       "    </tr>\n",
       "  </thead>\n",
       "  <tbody>\n",
       "    <tr>\n",
       "      <th>0</th>\n",
       "      <td>1</td>\n",
       "      <td>0</td>\n",
       "      <td>3</td>\n",
       "      <td>Braund, Mr. Owen Harris</td>\n",
       "      <td>male</td>\n",
       "      <td>22.0</td>\n",
       "      <td>1</td>\n",
       "      <td>0</td>\n",
       "      <td>A/5 21171</td>\n",
       "      <td>7.2500</td>\n",
       "      <td>NaN</td>\n",
       "      <td>S</td>\n",
       "    </tr>\n",
       "    <tr>\n",
       "      <th>1</th>\n",
       "      <td>2</td>\n",
       "      <td>1</td>\n",
       "      <td>1</td>\n",
       "      <td>Cumings, Mrs. John Bradley (Florence Briggs Th...</td>\n",
       "      <td>female</td>\n",
       "      <td>38.0</td>\n",
       "      <td>1</td>\n",
       "      <td>0</td>\n",
       "      <td>PC 17599</td>\n",
       "      <td>71.2833</td>\n",
       "      <td>C85</td>\n",
       "      <td>C</td>\n",
       "    </tr>\n",
       "    <tr>\n",
       "      <th>2</th>\n",
       "      <td>3</td>\n",
       "      <td>1</td>\n",
       "      <td>3</td>\n",
       "      <td>Heikkinen, Miss. Laina</td>\n",
       "      <td>female</td>\n",
       "      <td>26.0</td>\n",
       "      <td>0</td>\n",
       "      <td>0</td>\n",
       "      <td>STON/O2. 3101282</td>\n",
       "      <td>7.9250</td>\n",
       "      <td>NaN</td>\n",
       "      <td>S</td>\n",
       "    </tr>\n",
       "    <tr>\n",
       "      <th>3</th>\n",
       "      <td>4</td>\n",
       "      <td>1</td>\n",
       "      <td>1</td>\n",
       "      <td>Futrelle, Mrs. Jacques Heath (Lily May Peel)</td>\n",
       "      <td>female</td>\n",
       "      <td>35.0</td>\n",
       "      <td>1</td>\n",
       "      <td>0</td>\n",
       "      <td>113803</td>\n",
       "      <td>53.1000</td>\n",
       "      <td>C123</td>\n",
       "      <td>S</td>\n",
       "    </tr>\n",
       "    <tr>\n",
       "      <th>4</th>\n",
       "      <td>5</td>\n",
       "      <td>0</td>\n",
       "      <td>3</td>\n",
       "      <td>Allen, Mr. William Henry</td>\n",
       "      <td>male</td>\n",
       "      <td>35.0</td>\n",
       "      <td>0</td>\n",
       "      <td>0</td>\n",
       "      <td>373450</td>\n",
       "      <td>8.0500</td>\n",
       "      <td>NaN</td>\n",
       "      <td>S</td>\n",
       "    </tr>\n",
       "  </tbody>\n",
       "</table>\n",
       "</div>"
      ],
      "text/plain": [
       "   PassengerId  Survived  Pclass  \\\n",
       "0            1         0       3   \n",
       "1            2         1       1   \n",
       "2            3         1       3   \n",
       "3            4         1       1   \n",
       "4            5         0       3   \n",
       "\n",
       "                                                Name     Sex   Age  SibSp  \\\n",
       "0                            Braund, Mr. Owen Harris    male  22.0      1   \n",
       "1  Cumings, Mrs. John Bradley (Florence Briggs Th...  female  38.0      1   \n",
       "2                             Heikkinen, Miss. Laina  female  26.0      0   \n",
       "3       Futrelle, Mrs. Jacques Heath (Lily May Peel)  female  35.0      1   \n",
       "4                           Allen, Mr. William Henry    male  35.0      0   \n",
       "\n",
       "   Parch            Ticket     Fare Cabin Embarked  \n",
       "0      0         A/5 21171   7.2500   NaN        S  \n",
       "1      0          PC 17599  71.2833   C85        C  \n",
       "2      0  STON/O2. 3101282   7.9250   NaN        S  \n",
       "3      0            113803  53.1000  C123        S  \n",
       "4      0            373450   8.0500   NaN        S  "
      ]
     },
     "execution_count": 2,
     "metadata": {},
     "output_type": "execute_result"
    }
   ],
   "source": [
    "test_data = pd.read_csv('/kaggle/input/titanic/test.csv')\n",
    "data = pd.read_csv('/kaggle/input/titanic/train.csv')\n",
    "data.head()"
   ]
  },
  {
   "cell_type": "code",
   "execution_count": 3,
   "id": "c1dee608",
   "metadata": {
    "execution": {
     "iopub.execute_input": "2024-02-15T19:20:29.592283Z",
     "iopub.status.busy": "2024-02-15T19:20:29.591758Z",
     "iopub.status.idle": "2024-02-15T19:20:29.626440Z",
     "shell.execute_reply": "2024-02-15T19:20:29.624865Z"
    },
    "papermill": {
     "duration": 0.050891,
     "end_time": "2024-02-15T19:20:29.629373",
     "exception": false,
     "start_time": "2024-02-15T19:20:29.578482",
     "status": "completed"
    },
    "tags": []
   },
   "outputs": [
    {
     "name": "stdout",
     "output_type": "stream",
     "text": [
      "<class 'pandas.core.frame.DataFrame'>\n",
      "RangeIndex: 891 entries, 0 to 890\n",
      "Data columns (total 12 columns):\n",
      " #   Column       Non-Null Count  Dtype  \n",
      "---  ------       --------------  -----  \n",
      " 0   PassengerId  891 non-null    int64  \n",
      " 1   Survived     891 non-null    int64  \n",
      " 2   Pclass       891 non-null    int64  \n",
      " 3   Name         891 non-null    object \n",
      " 4   Sex          891 non-null    object \n",
      " 5   Age          714 non-null    float64\n",
      " 6   SibSp        891 non-null    int64  \n",
      " 7   Parch        891 non-null    int64  \n",
      " 8   Ticket       891 non-null    object \n",
      " 9   Fare         891 non-null    float64\n",
      " 10  Cabin        204 non-null    object \n",
      " 11  Embarked     889 non-null    object \n",
      "dtypes: float64(2), int64(5), object(5)\n",
      "memory usage: 83.7+ KB\n"
     ]
    }
   ],
   "source": [
    "data.info()"
   ]
  },
  {
   "cell_type": "markdown",
   "id": "3497b0da",
   "metadata": {
    "papermill": {
     "duration": 0.01101,
     "end_time": "2024-02-15T19:20:29.652027",
     "exception": false,
     "start_time": "2024-02-15T19:20:29.641017",
     "status": "completed"
    },
    "tags": []
   },
   "source": [
    "# Quase 80% dos dados da coluna cabine são nulos, então não usarei no modelo. Uma pequena parte das idades também é nula, mas transformaremos"
   ]
  },
  {
   "cell_type": "code",
   "execution_count": 4,
   "id": "8bf1f1f1",
   "metadata": {
    "execution": {
     "iopub.execute_input": "2024-02-15T19:20:29.678460Z",
     "iopub.status.busy": "2024-02-15T19:20:29.677942Z",
     "iopub.status.idle": "2024-02-15T19:20:29.689879Z",
     "shell.execute_reply": "2024-02-15T19:20:29.688496Z"
    },
    "papermill": {
     "duration": 0.02812,
     "end_time": "2024-02-15T19:20:29.692774",
     "exception": false,
     "start_time": "2024-02-15T19:20:29.664654",
     "status": "completed"
    },
    "tags": []
   },
   "outputs": [
    {
     "data": {
      "text/plain": [
       "PassengerId      0\n",
       "Pclass           0\n",
       "Name             0\n",
       "Sex              0\n",
       "Age             86\n",
       "SibSp            0\n",
       "Parch            0\n",
       "Ticket           0\n",
       "Fare             1\n",
       "Cabin          327\n",
       "Embarked         0\n",
       "dtype: int64"
      ]
     },
     "execution_count": 4,
     "metadata": {},
     "output_type": "execute_result"
    }
   ],
   "source": [
    "test_data.isnull().sum()"
   ]
  },
  {
   "cell_type": "code",
   "execution_count": 5,
   "id": "38d62a07",
   "metadata": {
    "execution": {
     "iopub.execute_input": "2024-02-15T19:20:29.718736Z",
     "iopub.status.busy": "2024-02-15T19:20:29.718239Z",
     "iopub.status.idle": "2024-02-15T19:20:29.729722Z",
     "shell.execute_reply": "2024-02-15T19:20:29.728345Z"
    },
    "papermill": {
     "duration": 0.027523,
     "end_time": "2024-02-15T19:20:29.732419",
     "exception": false,
     "start_time": "2024-02-15T19:20:29.704896",
     "status": "completed"
    },
    "tags": []
   },
   "outputs": [
    {
     "data": {
      "text/plain": [
       "PassengerId      0\n",
       "Survived         0\n",
       "Pclass           0\n",
       "Name             0\n",
       "Sex              0\n",
       "Age            177\n",
       "SibSp            0\n",
       "Parch            0\n",
       "Ticket           0\n",
       "Fare             0\n",
       "Cabin          687\n",
       "Embarked         2\n",
       "dtype: int64"
      ]
     },
     "execution_count": 5,
     "metadata": {},
     "output_type": "execute_result"
    }
   ],
   "source": [
    "data.isnull().sum()"
   ]
  },
  {
   "cell_type": "code",
   "execution_count": 6,
   "id": "32ca8f1d",
   "metadata": {
    "execution": {
     "iopub.execute_input": "2024-02-15T19:20:29.761146Z",
     "iopub.status.busy": "2024-02-15T19:20:29.759854Z",
     "iopub.status.idle": "2024-02-15T19:20:29.772486Z",
     "shell.execute_reply": "2024-02-15T19:20:29.771272Z"
    },
    "papermill": {
     "duration": 0.030035,
     "end_time": "2024-02-15T19:20:29.775410",
     "exception": false,
     "start_time": "2024-02-15T19:20:29.745375",
     "status": "completed"
    },
    "tags": []
   },
   "outputs": [],
   "source": [
    "media2 = test_data['Age'].mean()\n",
    "test_data['Age'].fillna(media2, inplace=True)\n",
    "media_fare = test_data['Fare'].mean()\n",
    "test_data['Fare'].fillna(media_fare, inplace=True)\n",
    "\n",
    "media1 = data['Age'].mean()\n",
    "data['Age'].fillna(media1, inplace=True)\n",
    "data['Embarked'].fillna('S', inplace=True)"
   ]
  },
  {
   "cell_type": "code",
   "execution_count": 7,
   "id": "16614d40",
   "metadata": {
    "execution": {
     "iopub.execute_input": "2024-02-15T19:20:29.802234Z",
     "iopub.status.busy": "2024-02-15T19:20:29.801408Z",
     "iopub.status.idle": "2024-02-15T19:20:29.810600Z",
     "shell.execute_reply": "2024-02-15T19:20:29.809637Z"
    },
    "papermill": {
     "duration": 0.025405,
     "end_time": "2024-02-15T19:20:29.813022",
     "exception": false,
     "start_time": "2024-02-15T19:20:29.787617",
     "status": "completed"
    },
    "tags": []
   },
   "outputs": [
    {
     "data": {
      "text/plain": [
       "PassengerId      0\n",
       "Pclass           0\n",
       "Name             0\n",
       "Sex              0\n",
       "Age              0\n",
       "SibSp            0\n",
       "Parch            0\n",
       "Ticket           0\n",
       "Fare             0\n",
       "Cabin          327\n",
       "Embarked         0\n",
       "dtype: int64"
      ]
     },
     "execution_count": 7,
     "metadata": {},
     "output_type": "execute_result"
    }
   ],
   "source": [
    "test_data.isnull().sum()"
   ]
  },
  {
   "cell_type": "code",
   "execution_count": 8,
   "id": "b025c51a",
   "metadata": {
    "execution": {
     "iopub.execute_input": "2024-02-15T19:20:29.840025Z",
     "iopub.status.busy": "2024-02-15T19:20:29.839199Z",
     "iopub.status.idle": "2024-02-15T19:20:29.849868Z",
     "shell.execute_reply": "2024-02-15T19:20:29.848537Z"
    },
    "papermill": {
     "duration": 0.027546,
     "end_time": "2024-02-15T19:20:29.852834",
     "exception": false,
     "start_time": "2024-02-15T19:20:29.825288",
     "status": "completed"
    },
    "tags": []
   },
   "outputs": [
    {
     "data": {
      "text/plain": [
       "PassengerId      0\n",
       "Survived         0\n",
       "Pclass           0\n",
       "Name             0\n",
       "Sex              0\n",
       "Age              0\n",
       "SibSp            0\n",
       "Parch            0\n",
       "Ticket           0\n",
       "Fare             0\n",
       "Cabin          687\n",
       "Embarked         0\n",
       "dtype: int64"
      ]
     },
     "execution_count": 8,
     "metadata": {},
     "output_type": "execute_result"
    }
   ],
   "source": [
    "data.isnull().sum()"
   ]
  },
  {
   "cell_type": "code",
   "execution_count": 9,
   "id": "bf419b67",
   "metadata": {
    "execution": {
     "iopub.execute_input": "2024-02-15T19:20:29.880803Z",
     "iopub.status.busy": "2024-02-15T19:20:29.879614Z",
     "iopub.status.idle": "2024-02-15T19:20:29.903732Z",
     "shell.execute_reply": "2024-02-15T19:20:29.902760Z"
    },
    "papermill": {
     "duration": 0.041018,
     "end_time": "2024-02-15T19:20:29.906287",
     "exception": false,
     "start_time": "2024-02-15T19:20:29.865269",
     "status": "completed"
    },
    "tags": []
   },
   "outputs": [
    {
     "data": {
      "text/html": [
       "<div>\n",
       "<style scoped>\n",
       "    .dataframe tbody tr th:only-of-type {\n",
       "        vertical-align: middle;\n",
       "    }\n",
       "\n",
       "    .dataframe tbody tr th {\n",
       "        vertical-align: top;\n",
       "    }\n",
       "\n",
       "    .dataframe thead th {\n",
       "        text-align: right;\n",
       "    }\n",
       "</style>\n",
       "<table border=\"1\" class=\"dataframe\">\n",
       "  <thead>\n",
       "    <tr style=\"text-align: right;\">\n",
       "      <th></th>\n",
       "      <th>Pclass</th>\n",
       "      <th>Sex</th>\n",
       "      <th>Age</th>\n",
       "      <th>SibSp</th>\n",
       "      <th>Parch</th>\n",
       "      <th>Fare</th>\n",
       "      <th>Embarked</th>\n",
       "    </tr>\n",
       "  </thead>\n",
       "  <tbody>\n",
       "    <tr>\n",
       "      <th>0</th>\n",
       "      <td>3</td>\n",
       "      <td>male</td>\n",
       "      <td>22.0</td>\n",
       "      <td>1</td>\n",
       "      <td>0</td>\n",
       "      <td>7.2500</td>\n",
       "      <td>S</td>\n",
       "    </tr>\n",
       "    <tr>\n",
       "      <th>1</th>\n",
       "      <td>1</td>\n",
       "      <td>female</td>\n",
       "      <td>38.0</td>\n",
       "      <td>1</td>\n",
       "      <td>0</td>\n",
       "      <td>71.2833</td>\n",
       "      <td>C</td>\n",
       "    </tr>\n",
       "    <tr>\n",
       "      <th>2</th>\n",
       "      <td>3</td>\n",
       "      <td>female</td>\n",
       "      <td>26.0</td>\n",
       "      <td>0</td>\n",
       "      <td>0</td>\n",
       "      <td>7.9250</td>\n",
       "      <td>S</td>\n",
       "    </tr>\n",
       "    <tr>\n",
       "      <th>3</th>\n",
       "      <td>1</td>\n",
       "      <td>female</td>\n",
       "      <td>35.0</td>\n",
       "      <td>1</td>\n",
       "      <td>0</td>\n",
       "      <td>53.1000</td>\n",
       "      <td>S</td>\n",
       "    </tr>\n",
       "    <tr>\n",
       "      <th>4</th>\n",
       "      <td>3</td>\n",
       "      <td>male</td>\n",
       "      <td>35.0</td>\n",
       "      <td>0</td>\n",
       "      <td>0</td>\n",
       "      <td>8.0500</td>\n",
       "      <td>S</td>\n",
       "    </tr>\n",
       "  </tbody>\n",
       "</table>\n",
       "</div>"
      ],
      "text/plain": [
       "   Pclass     Sex   Age  SibSp  Parch     Fare Embarked\n",
       "0       3    male  22.0      1      0   7.2500        S\n",
       "1       1  female  38.0      1      0  71.2833        C\n",
       "2       3  female  26.0      0      0   7.9250        S\n",
       "3       1  female  35.0      1      0  53.1000        S\n",
       "4       3    male  35.0      0      0   8.0500        S"
      ]
     },
     "execution_count": 9,
     "metadata": {},
     "output_type": "execute_result"
    }
   ],
   "source": [
    "X_exercicio = X = test_data[['Pclass','Sex','Age','SibSp','Parch','Fare','Embarked']]\n",
    "X = data[['Pclass','Sex','Age','SibSp','Parch','Fare','Embarked']]\n",
    "y = data['Survived']\n",
    "X.head()"
   ]
  },
  {
   "cell_type": "code",
   "execution_count": 10,
   "id": "50b964c5",
   "metadata": {
    "execution": {
     "iopub.execute_input": "2024-02-15T19:20:29.934488Z",
     "iopub.status.busy": "2024-02-15T19:20:29.933945Z",
     "iopub.status.idle": "2024-02-15T19:20:29.943280Z",
     "shell.execute_reply": "2024-02-15T19:20:29.941751Z"
    },
    "papermill": {
     "duration": 0.027044,
     "end_time": "2024-02-15T19:20:29.946002",
     "exception": false,
     "start_time": "2024-02-15T19:20:29.918958",
     "status": "completed"
    },
    "tags": []
   },
   "outputs": [
    {
     "data": {
      "text/plain": [
       "0    0\n",
       "1    1\n",
       "2    1\n",
       "3    1\n",
       "4    0\n",
       "Name: Survived, dtype: int64"
      ]
     },
     "execution_count": 10,
     "metadata": {},
     "output_type": "execute_result"
    }
   ],
   "source": [
    "y.head()"
   ]
  },
  {
   "cell_type": "code",
   "execution_count": 11,
   "id": "b5bc08d9",
   "metadata": {
    "execution": {
     "iopub.execute_input": "2024-02-15T19:20:29.977328Z",
     "iopub.status.busy": "2024-02-15T19:20:29.975894Z",
     "iopub.status.idle": "2024-02-15T19:20:29.983362Z",
     "shell.execute_reply": "2024-02-15T19:20:29.982165Z"
    },
    "papermill": {
     "duration": 0.027486,
     "end_time": "2024-02-15T19:20:29.986578",
     "exception": false,
     "start_time": "2024-02-15T19:20:29.959092",
     "status": "completed"
    },
    "tags": []
   },
   "outputs": [],
   "source": [
    "colunas = X.columns\n",
    "one_hot = make_column_transformer((\n",
    "    OneHotEncoder(drop = 'if_binary'),\n",
    "    ['Sex', 'Embarked']),\n",
    "    remainder = 'passthrough',\n",
    "    sparse_threshold = 0\n",
    "    )"
   ]
  },
  {
   "cell_type": "code",
   "execution_count": 12,
   "id": "d8066825",
   "metadata": {
    "execution": {
     "iopub.execute_input": "2024-02-15T19:20:30.014550Z",
     "iopub.status.busy": "2024-02-15T19:20:30.014032Z",
     "iopub.status.idle": "2024-02-15T19:20:30.042133Z",
     "shell.execute_reply": "2024-02-15T19:20:30.041072Z"
    },
    "papermill": {
     "duration": 0.045005,
     "end_time": "2024-02-15T19:20:30.044630",
     "exception": false,
     "start_time": "2024-02-15T19:20:29.999625",
     "status": "completed"
    },
    "tags": []
   },
   "outputs": [
    {
     "data": {
      "text/plain": [
       "array(['onehotencoder__Sex_male', 'onehotencoder__Embarked_C',\n",
       "       'onehotencoder__Embarked_Q', 'onehotencoder__Embarked_S',\n",
       "       'remainder__Pclass', 'remainder__Age', 'remainder__SibSp',\n",
       "       'remainder__Parch', 'remainder__Fare'], dtype=object)"
      ]
     },
     "execution_count": 12,
     "metadata": {},
     "output_type": "execute_result"
    }
   ],
   "source": [
    "X_exercicio = one_hot.fit_transform(X_exercicio)\n",
    "X = one_hot.fit_transform(X)\n",
    "one_hot.get_feature_names_out(colunas)"
   ]
  },
  {
   "cell_type": "code",
   "execution_count": 13,
   "id": "1ad57c24",
   "metadata": {
    "execution": {
     "iopub.execute_input": "2024-02-15T19:20:30.072855Z",
     "iopub.status.busy": "2024-02-15T19:20:30.072066Z",
     "iopub.status.idle": "2024-02-15T19:20:30.105457Z",
     "shell.execute_reply": "2024-02-15T19:20:30.103954Z"
    },
    "papermill": {
     "duration": 0.050633,
     "end_time": "2024-02-15T19:20:30.108187",
     "exception": false,
     "start_time": "2024-02-15T19:20:30.057554",
     "status": "completed"
    },
    "tags": []
   },
   "outputs": [
    {
     "data": {
      "text/html": [
       "<div>\n",
       "<style scoped>\n",
       "    .dataframe tbody tr th:only-of-type {\n",
       "        vertical-align: middle;\n",
       "    }\n",
       "\n",
       "    .dataframe tbody tr th {\n",
       "        vertical-align: top;\n",
       "    }\n",
       "\n",
       "    .dataframe thead th {\n",
       "        text-align: right;\n",
       "    }\n",
       "</style>\n",
       "<table border=\"1\" class=\"dataframe\">\n",
       "  <thead>\n",
       "    <tr style=\"text-align: right;\">\n",
       "      <th></th>\n",
       "      <th>onehotencoder__Sex_male</th>\n",
       "      <th>onehotencoder__Embarked_C</th>\n",
       "      <th>onehotencoder__Embarked_Q</th>\n",
       "      <th>onehotencoder__Embarked_S</th>\n",
       "      <th>remainder__Pclass</th>\n",
       "      <th>remainder__Age</th>\n",
       "      <th>remainder__SibSp</th>\n",
       "      <th>remainder__Parch</th>\n",
       "      <th>remainder__Fare</th>\n",
       "    </tr>\n",
       "  </thead>\n",
       "  <tbody>\n",
       "    <tr>\n",
       "      <th>0</th>\n",
       "      <td>1.0</td>\n",
       "      <td>0.0</td>\n",
       "      <td>0.0</td>\n",
       "      <td>1.0</td>\n",
       "      <td>3.0</td>\n",
       "      <td>22.000000</td>\n",
       "      <td>1.0</td>\n",
       "      <td>0.0</td>\n",
       "      <td>7.2500</td>\n",
       "    </tr>\n",
       "    <tr>\n",
       "      <th>1</th>\n",
       "      <td>0.0</td>\n",
       "      <td>1.0</td>\n",
       "      <td>0.0</td>\n",
       "      <td>0.0</td>\n",
       "      <td>1.0</td>\n",
       "      <td>38.000000</td>\n",
       "      <td>1.0</td>\n",
       "      <td>0.0</td>\n",
       "      <td>71.2833</td>\n",
       "    </tr>\n",
       "    <tr>\n",
       "      <th>2</th>\n",
       "      <td>0.0</td>\n",
       "      <td>0.0</td>\n",
       "      <td>0.0</td>\n",
       "      <td>1.0</td>\n",
       "      <td>3.0</td>\n",
       "      <td>26.000000</td>\n",
       "      <td>0.0</td>\n",
       "      <td>0.0</td>\n",
       "      <td>7.9250</td>\n",
       "    </tr>\n",
       "    <tr>\n",
       "      <th>3</th>\n",
       "      <td>0.0</td>\n",
       "      <td>0.0</td>\n",
       "      <td>0.0</td>\n",
       "      <td>1.0</td>\n",
       "      <td>1.0</td>\n",
       "      <td>35.000000</td>\n",
       "      <td>1.0</td>\n",
       "      <td>0.0</td>\n",
       "      <td>53.1000</td>\n",
       "    </tr>\n",
       "    <tr>\n",
       "      <th>4</th>\n",
       "      <td>1.0</td>\n",
       "      <td>0.0</td>\n",
       "      <td>0.0</td>\n",
       "      <td>1.0</td>\n",
       "      <td>3.0</td>\n",
       "      <td>35.000000</td>\n",
       "      <td>0.0</td>\n",
       "      <td>0.0</td>\n",
       "      <td>8.0500</td>\n",
       "    </tr>\n",
       "    <tr>\n",
       "      <th>...</th>\n",
       "      <td>...</td>\n",
       "      <td>...</td>\n",
       "      <td>...</td>\n",
       "      <td>...</td>\n",
       "      <td>...</td>\n",
       "      <td>...</td>\n",
       "      <td>...</td>\n",
       "      <td>...</td>\n",
       "      <td>...</td>\n",
       "    </tr>\n",
       "    <tr>\n",
       "      <th>886</th>\n",
       "      <td>1.0</td>\n",
       "      <td>0.0</td>\n",
       "      <td>0.0</td>\n",
       "      <td>1.0</td>\n",
       "      <td>2.0</td>\n",
       "      <td>27.000000</td>\n",
       "      <td>0.0</td>\n",
       "      <td>0.0</td>\n",
       "      <td>13.0000</td>\n",
       "    </tr>\n",
       "    <tr>\n",
       "      <th>887</th>\n",
       "      <td>0.0</td>\n",
       "      <td>0.0</td>\n",
       "      <td>0.0</td>\n",
       "      <td>1.0</td>\n",
       "      <td>1.0</td>\n",
       "      <td>19.000000</td>\n",
       "      <td>0.0</td>\n",
       "      <td>0.0</td>\n",
       "      <td>30.0000</td>\n",
       "    </tr>\n",
       "    <tr>\n",
       "      <th>888</th>\n",
       "      <td>0.0</td>\n",
       "      <td>0.0</td>\n",
       "      <td>0.0</td>\n",
       "      <td>1.0</td>\n",
       "      <td>3.0</td>\n",
       "      <td>29.699118</td>\n",
       "      <td>1.0</td>\n",
       "      <td>2.0</td>\n",
       "      <td>23.4500</td>\n",
       "    </tr>\n",
       "    <tr>\n",
       "      <th>889</th>\n",
       "      <td>1.0</td>\n",
       "      <td>1.0</td>\n",
       "      <td>0.0</td>\n",
       "      <td>0.0</td>\n",
       "      <td>1.0</td>\n",
       "      <td>26.000000</td>\n",
       "      <td>0.0</td>\n",
       "      <td>0.0</td>\n",
       "      <td>30.0000</td>\n",
       "    </tr>\n",
       "    <tr>\n",
       "      <th>890</th>\n",
       "      <td>1.0</td>\n",
       "      <td>0.0</td>\n",
       "      <td>1.0</td>\n",
       "      <td>0.0</td>\n",
       "      <td>3.0</td>\n",
       "      <td>32.000000</td>\n",
       "      <td>0.0</td>\n",
       "      <td>0.0</td>\n",
       "      <td>7.7500</td>\n",
       "    </tr>\n",
       "  </tbody>\n",
       "</table>\n",
       "<p>891 rows × 9 columns</p>\n",
       "</div>"
      ],
      "text/plain": [
       "     onehotencoder__Sex_male  onehotencoder__Embarked_C  \\\n",
       "0                        1.0                        0.0   \n",
       "1                        0.0                        1.0   \n",
       "2                        0.0                        0.0   \n",
       "3                        0.0                        0.0   \n",
       "4                        1.0                        0.0   \n",
       "..                       ...                        ...   \n",
       "886                      1.0                        0.0   \n",
       "887                      0.0                        0.0   \n",
       "888                      0.0                        0.0   \n",
       "889                      1.0                        1.0   \n",
       "890                      1.0                        0.0   \n",
       "\n",
       "     onehotencoder__Embarked_Q  onehotencoder__Embarked_S  remainder__Pclass  \\\n",
       "0                          0.0                        1.0                3.0   \n",
       "1                          0.0                        0.0                1.0   \n",
       "2                          0.0                        1.0                3.0   \n",
       "3                          0.0                        1.0                1.0   \n",
       "4                          0.0                        1.0                3.0   \n",
       "..                         ...                        ...                ...   \n",
       "886                        0.0                        1.0                2.0   \n",
       "887                        0.0                        1.0                1.0   \n",
       "888                        0.0                        1.0                3.0   \n",
       "889                        0.0                        0.0                1.0   \n",
       "890                        1.0                        0.0                3.0   \n",
       "\n",
       "     remainder__Age  remainder__SibSp  remainder__Parch  remainder__Fare  \n",
       "0         22.000000               1.0               0.0           7.2500  \n",
       "1         38.000000               1.0               0.0          71.2833  \n",
       "2         26.000000               0.0               0.0           7.9250  \n",
       "3         35.000000               1.0               0.0          53.1000  \n",
       "4         35.000000               0.0               0.0           8.0500  \n",
       "..              ...               ...               ...              ...  \n",
       "886       27.000000               0.0               0.0          13.0000  \n",
       "887       19.000000               0.0               0.0          30.0000  \n",
       "888       29.699118               1.0               2.0          23.4500  \n",
       "889       26.000000               0.0               0.0          30.0000  \n",
       "890       32.000000               0.0               0.0           7.7500  \n",
       "\n",
       "[891 rows x 9 columns]"
      ]
     },
     "execution_count": 13,
     "metadata": {},
     "output_type": "execute_result"
    }
   ],
   "source": [
    "pd.DataFrame(X, columns = one_hot.get_feature_names_out(colunas))"
   ]
  },
  {
   "cell_type": "code",
   "execution_count": 14,
   "id": "2006ad88",
   "metadata": {
    "execution": {
     "iopub.execute_input": "2024-02-15T19:20:30.138758Z",
     "iopub.status.busy": "2024-02-15T19:20:30.138273Z",
     "iopub.status.idle": "2024-02-15T19:20:30.168889Z",
     "shell.execute_reply": "2024-02-15T19:20:30.167477Z"
    },
    "papermill": {
     "duration": 0.049337,
     "end_time": "2024-02-15T19:20:30.171734",
     "exception": false,
     "start_time": "2024-02-15T19:20:30.122397",
     "status": "completed"
    },
    "tags": []
   },
   "outputs": [
    {
     "data": {
      "text/html": [
       "<div>\n",
       "<style scoped>\n",
       "    .dataframe tbody tr th:only-of-type {\n",
       "        vertical-align: middle;\n",
       "    }\n",
       "\n",
       "    .dataframe tbody tr th {\n",
       "        vertical-align: top;\n",
       "    }\n",
       "\n",
       "    .dataframe thead th {\n",
       "        text-align: right;\n",
       "    }\n",
       "</style>\n",
       "<table border=\"1\" class=\"dataframe\">\n",
       "  <thead>\n",
       "    <tr style=\"text-align: right;\">\n",
       "      <th></th>\n",
       "      <th>onehotencoder__Sex_male</th>\n",
       "      <th>onehotencoder__Embarked_C</th>\n",
       "      <th>onehotencoder__Embarked_Q</th>\n",
       "      <th>onehotencoder__Embarked_S</th>\n",
       "      <th>remainder__Pclass</th>\n",
       "      <th>remainder__Age</th>\n",
       "      <th>remainder__SibSp</th>\n",
       "      <th>remainder__Parch</th>\n",
       "      <th>remainder__Fare</th>\n",
       "    </tr>\n",
       "  </thead>\n",
       "  <tbody>\n",
       "    <tr>\n",
       "      <th>0</th>\n",
       "      <td>1.0</td>\n",
       "      <td>0.0</td>\n",
       "      <td>1.0</td>\n",
       "      <td>0.0</td>\n",
       "      <td>3.0</td>\n",
       "      <td>34.50000</td>\n",
       "      <td>0.0</td>\n",
       "      <td>0.0</td>\n",
       "      <td>7.8292</td>\n",
       "    </tr>\n",
       "    <tr>\n",
       "      <th>1</th>\n",
       "      <td>0.0</td>\n",
       "      <td>0.0</td>\n",
       "      <td>0.0</td>\n",
       "      <td>1.0</td>\n",
       "      <td>3.0</td>\n",
       "      <td>47.00000</td>\n",
       "      <td>1.0</td>\n",
       "      <td>0.0</td>\n",
       "      <td>7.0000</td>\n",
       "    </tr>\n",
       "    <tr>\n",
       "      <th>2</th>\n",
       "      <td>1.0</td>\n",
       "      <td>0.0</td>\n",
       "      <td>1.0</td>\n",
       "      <td>0.0</td>\n",
       "      <td>2.0</td>\n",
       "      <td>62.00000</td>\n",
       "      <td>0.0</td>\n",
       "      <td>0.0</td>\n",
       "      <td>9.6875</td>\n",
       "    </tr>\n",
       "    <tr>\n",
       "      <th>3</th>\n",
       "      <td>1.0</td>\n",
       "      <td>0.0</td>\n",
       "      <td>0.0</td>\n",
       "      <td>1.0</td>\n",
       "      <td>3.0</td>\n",
       "      <td>27.00000</td>\n",
       "      <td>0.0</td>\n",
       "      <td>0.0</td>\n",
       "      <td>8.6625</td>\n",
       "    </tr>\n",
       "    <tr>\n",
       "      <th>4</th>\n",
       "      <td>0.0</td>\n",
       "      <td>0.0</td>\n",
       "      <td>0.0</td>\n",
       "      <td>1.0</td>\n",
       "      <td>3.0</td>\n",
       "      <td>22.00000</td>\n",
       "      <td>1.0</td>\n",
       "      <td>1.0</td>\n",
       "      <td>12.2875</td>\n",
       "    </tr>\n",
       "    <tr>\n",
       "      <th>...</th>\n",
       "      <td>...</td>\n",
       "      <td>...</td>\n",
       "      <td>...</td>\n",
       "      <td>...</td>\n",
       "      <td>...</td>\n",
       "      <td>...</td>\n",
       "      <td>...</td>\n",
       "      <td>...</td>\n",
       "      <td>...</td>\n",
       "    </tr>\n",
       "    <tr>\n",
       "      <th>413</th>\n",
       "      <td>1.0</td>\n",
       "      <td>0.0</td>\n",
       "      <td>0.0</td>\n",
       "      <td>1.0</td>\n",
       "      <td>3.0</td>\n",
       "      <td>30.27259</td>\n",
       "      <td>0.0</td>\n",
       "      <td>0.0</td>\n",
       "      <td>8.0500</td>\n",
       "    </tr>\n",
       "    <tr>\n",
       "      <th>414</th>\n",
       "      <td>0.0</td>\n",
       "      <td>1.0</td>\n",
       "      <td>0.0</td>\n",
       "      <td>0.0</td>\n",
       "      <td>1.0</td>\n",
       "      <td>39.00000</td>\n",
       "      <td>0.0</td>\n",
       "      <td>0.0</td>\n",
       "      <td>108.9000</td>\n",
       "    </tr>\n",
       "    <tr>\n",
       "      <th>415</th>\n",
       "      <td>1.0</td>\n",
       "      <td>0.0</td>\n",
       "      <td>0.0</td>\n",
       "      <td>1.0</td>\n",
       "      <td>3.0</td>\n",
       "      <td>38.50000</td>\n",
       "      <td>0.0</td>\n",
       "      <td>0.0</td>\n",
       "      <td>7.2500</td>\n",
       "    </tr>\n",
       "    <tr>\n",
       "      <th>416</th>\n",
       "      <td>1.0</td>\n",
       "      <td>0.0</td>\n",
       "      <td>0.0</td>\n",
       "      <td>1.0</td>\n",
       "      <td>3.0</td>\n",
       "      <td>30.27259</td>\n",
       "      <td>0.0</td>\n",
       "      <td>0.0</td>\n",
       "      <td>8.0500</td>\n",
       "    </tr>\n",
       "    <tr>\n",
       "      <th>417</th>\n",
       "      <td>1.0</td>\n",
       "      <td>1.0</td>\n",
       "      <td>0.0</td>\n",
       "      <td>0.0</td>\n",
       "      <td>3.0</td>\n",
       "      <td>30.27259</td>\n",
       "      <td>1.0</td>\n",
       "      <td>1.0</td>\n",
       "      <td>22.3583</td>\n",
       "    </tr>\n",
       "  </tbody>\n",
       "</table>\n",
       "<p>418 rows × 9 columns</p>\n",
       "</div>"
      ],
      "text/plain": [
       "     onehotencoder__Sex_male  onehotencoder__Embarked_C  \\\n",
       "0                        1.0                        0.0   \n",
       "1                        0.0                        0.0   \n",
       "2                        1.0                        0.0   \n",
       "3                        1.0                        0.0   \n",
       "4                        0.0                        0.0   \n",
       "..                       ...                        ...   \n",
       "413                      1.0                        0.0   \n",
       "414                      0.0                        1.0   \n",
       "415                      1.0                        0.0   \n",
       "416                      1.0                        0.0   \n",
       "417                      1.0                        1.0   \n",
       "\n",
       "     onehotencoder__Embarked_Q  onehotencoder__Embarked_S  remainder__Pclass  \\\n",
       "0                          1.0                        0.0                3.0   \n",
       "1                          0.0                        1.0                3.0   \n",
       "2                          1.0                        0.0                2.0   \n",
       "3                          0.0                        1.0                3.0   \n",
       "4                          0.0                        1.0                3.0   \n",
       "..                         ...                        ...                ...   \n",
       "413                        0.0                        1.0                3.0   \n",
       "414                        0.0                        0.0                1.0   \n",
       "415                        0.0                        1.0                3.0   \n",
       "416                        0.0                        1.0                3.0   \n",
       "417                        0.0                        0.0                3.0   \n",
       "\n",
       "     remainder__Age  remainder__SibSp  remainder__Parch  remainder__Fare  \n",
       "0          34.50000               0.0               0.0           7.8292  \n",
       "1          47.00000               1.0               0.0           7.0000  \n",
       "2          62.00000               0.0               0.0           9.6875  \n",
       "3          27.00000               0.0               0.0           8.6625  \n",
       "4          22.00000               1.0               1.0          12.2875  \n",
       "..              ...               ...               ...              ...  \n",
       "413        30.27259               0.0               0.0           8.0500  \n",
       "414        39.00000               0.0               0.0         108.9000  \n",
       "415        38.50000               0.0               0.0           7.2500  \n",
       "416        30.27259               0.0               0.0           8.0500  \n",
       "417        30.27259               1.0               1.0          22.3583  \n",
       "\n",
       "[418 rows x 9 columns]"
      ]
     },
     "execution_count": 14,
     "metadata": {},
     "output_type": "execute_result"
    }
   ],
   "source": [
    "pd.DataFrame(X_exercicio, columns = one_hot.get_feature_names_out(colunas))"
   ]
  },
  {
   "cell_type": "code",
   "execution_count": 15,
   "id": "61d558f6",
   "metadata": {
    "execution": {
     "iopub.execute_input": "2024-02-15T19:20:30.202820Z",
     "iopub.status.busy": "2024-02-15T19:20:30.202287Z",
     "iopub.status.idle": "2024-02-15T19:20:30.214325Z",
     "shell.execute_reply": "2024-02-15T19:20:30.212783Z"
    },
    "papermill": {
     "duration": 0.031306,
     "end_time": "2024-02-15T19:20:30.216995",
     "exception": false,
     "start_time": "2024-02-15T19:20:30.185689",
     "status": "completed"
    },
    "tags": []
   },
   "outputs": [
    {
     "name": "stdout",
     "output_type": "stream",
     "text": [
      "Treinaremos com 668 elementos e testaremos com 223 elementos\n"
     ]
    }
   ],
   "source": [
    "treino_x, teste_x, treino_y, teste_y = train_test_split(X, y, test_size = 0.25, stratify = y)\n",
    "\n",
    "print(\"Treinaremos com %d elementos e testaremos com %d elementos\" % (len(treino_x), len(teste_x)))"
   ]
  },
  {
   "cell_type": "code",
   "execution_count": 16,
   "id": "24e76ad3",
   "metadata": {
    "execution": {
     "iopub.execute_input": "2024-02-15T19:20:30.249803Z",
     "iopub.status.busy": "2024-02-15T19:20:30.249282Z",
     "iopub.status.idle": "2024-02-15T19:20:30.261925Z",
     "shell.execute_reply": "2024-02-15T19:20:30.260139Z"
    },
    "papermill": {
     "duration": 0.032504,
     "end_time": "2024-02-15T19:20:30.265233",
     "exception": false,
     "start_time": "2024-02-15T19:20:30.232729",
     "status": "completed"
    },
    "tags": []
   },
   "outputs": [
    {
     "data": {
      "text/plain": [
       "0.6143497757847534"
      ]
     },
     "execution_count": 16,
     "metadata": {},
     "output_type": "execute_result"
    }
   ],
   "source": [
    "dummy = DummyClassifier()\n",
    "dummy.fit(treino_x, treino_y)\n",
    "\n",
    "dummy.score(teste_x, teste_y)"
   ]
  },
  {
   "cell_type": "code",
   "execution_count": 17,
   "id": "b00a67ff",
   "metadata": {
    "execution": {
     "iopub.execute_input": "2024-02-15T19:20:30.296305Z",
     "iopub.status.busy": "2024-02-15T19:20:30.295796Z",
     "iopub.status.idle": "2024-02-15T19:20:30.347599Z",
     "shell.execute_reply": "2024-02-15T19:20:30.346256Z"
    },
    "papermill": {
     "duration": 0.070787,
     "end_time": "2024-02-15T19:20:30.350414",
     "exception": false,
     "start_time": "2024-02-15T19:20:30.279627",
     "status": "completed"
    },
    "tags": []
   },
   "outputs": [
    {
     "name": "stderr",
     "output_type": "stream",
     "text": [
      "/opt/conda/lib/python3.10/site-packages/sklearn/svm/_base.py:1244: ConvergenceWarning: Liblinear failed to converge, increase the number of iterations.\n",
      "  warnings.warn(\n"
     ]
    },
    {
     "data": {
      "text/plain": [
       "0.7757847533632287"
      ]
     },
     "execution_count": 17,
     "metadata": {},
     "output_type": "execute_result"
    }
   ],
   "source": [
    "linear = LinearSVC()\n",
    "linear.fit(treino_x, treino_y)\n",
    "\n",
    "linear.score(teste_x, teste_y)"
   ]
  },
  {
   "cell_type": "code",
   "execution_count": 18,
   "id": "c30209ff",
   "metadata": {
    "execution": {
     "iopub.execute_input": "2024-02-15T19:20:30.381475Z",
     "iopub.status.busy": "2024-02-15T19:20:30.380541Z",
     "iopub.status.idle": "2024-02-15T19:20:30.394075Z",
     "shell.execute_reply": "2024-02-15T19:20:30.393015Z"
    },
    "papermill": {
     "duration": 0.031797,
     "end_time": "2024-02-15T19:20:30.396546",
     "exception": false,
     "start_time": "2024-02-15T19:20:30.364749",
     "status": "completed"
    },
    "tags": []
   },
   "outputs": [
    {
     "data": {
      "text/plain": [
       "0.8340807174887892"
      ]
     },
     "execution_count": 18,
     "metadata": {},
     "output_type": "execute_result"
    }
   ],
   "source": [
    "arvore = DecisionTreeClassifier(max_depth=4)\n",
    "arvore.fit(treino_x, treino_y)\n",
    "\n",
    "arvore.score(teste_x, teste_y)"
   ]
  },
  {
   "cell_type": "markdown",
   "id": "4f5333af",
   "metadata": {
    "papermill": {
     "duration": 0.013977,
     "end_time": "2024-02-15T19:20:30.425004",
     "exception": false,
     "start_time": "2024-02-15T19:20:30.411027",
     "status": "completed"
    },
    "tags": []
   },
   "source": [
    "# Tentei setar o nome das features criando uma lista com cada feature name, mas não deu certo, deu um bug que não consegui resolver. Então criei o diagrama das decisões sem o feature_names"
   ]
  },
  {
   "cell_type": "code",
   "execution_count": 19,
   "id": "dcffd7c5",
   "metadata": {
    "execution": {
     "iopub.execute_input": "2024-02-15T19:20:30.456532Z",
     "iopub.status.busy": "2024-02-15T19:20:30.456071Z",
     "iopub.status.idle": "2024-02-15T19:20:32.198871Z",
     "shell.execute_reply": "2024-02-15T19:20:32.197837Z"
    },
    "papermill": {
     "duration": 1.763507,
     "end_time": "2024-02-15T19:20:32.202877",
     "exception": false,
     "start_time": "2024-02-15T19:20:30.439370",
     "status": "completed"
    },
    "tags": []
   },
   "outputs": [
    {
     "data": {
      "text/plain": [
       "[Text(0.5089285714285714, 0.9, 'x[0] <= 0.5\\ngini = 0.473\\nsamples = 668\\nvalue = [412, 256]\\nclass = Não'),\n",
       " Text(0.2857142857142857, 0.7, 'x[4] <= 2.5\\ngini = 0.385\\nsamples = 234\\nvalue = [61, 173]\\nclass = Sim'),\n",
       " Text(0.14285714285714285, 0.5, 'x[5] <= 2.5\\ngini = 0.102\\nsamples = 130\\nvalue = [7, 123]\\nclass = Sim'),\n",
       " Text(0.07142857142857142, 0.3, 'x[8] <= 88.775\\ngini = 0.5\\nsamples = 2\\nvalue = [1, 1]\\nclass = Não'),\n",
       " Text(0.03571428571428571, 0.1, 'gini = 0.0\\nsamples = 1\\nvalue = [0, 1]\\nclass = Sim'),\n",
       " Text(0.10714285714285714, 0.1, 'gini = 0.0\\nsamples = 1\\nvalue = [1, 0]\\nclass = Não'),\n",
       " Text(0.21428571428571427, 0.3, 'x[8] <= 26.125\\ngini = 0.089\\nsamples = 128\\nvalue = [6, 122]\\nclass = Sim'),\n",
       " Text(0.17857142857142858, 0.1, 'gini = 0.201\\nsamples = 44\\nvalue = [5, 39]\\nclass = Sim'),\n",
       " Text(0.25, 0.1, 'gini = 0.024\\nsamples = 84\\nvalue = [1, 83]\\nclass = Sim'),\n",
       " Text(0.42857142857142855, 0.5, 'x[8] <= 22.904\\ngini = 0.499\\nsamples = 104\\nvalue = [54, 50]\\nclass = Não'),\n",
       " Text(0.35714285714285715, 0.3, 'x[5] <= 36.5\\ngini = 0.489\\nsamples = 82\\nvalue = [35, 47]\\nclass = Sim'),\n",
       " Text(0.32142857142857145, 0.1, 'gini = 0.476\\nsamples = 77\\nvalue = [30, 47]\\nclass = Sim'),\n",
       " Text(0.39285714285714285, 0.1, 'gini = 0.0\\nsamples = 5\\nvalue = [5, 0]\\nclass = Não'),\n",
       " Text(0.5, 0.3, 'x[7] <= 0.5\\ngini = 0.236\\nsamples = 22\\nvalue = [19, 3]\\nclass = Não'),\n",
       " Text(0.4642857142857143, 0.1, 'gini = 0.0\\nsamples = 1\\nvalue = [0, 1]\\nclass = Sim'),\n",
       " Text(0.5357142857142857, 0.1, 'gini = 0.172\\nsamples = 21\\nvalue = [19, 2]\\nclass = Não'),\n",
       " Text(0.7321428571428571, 0.7, 'x[5] <= 6.5\\ngini = 0.309\\nsamples = 434\\nvalue = [351, 83]\\nclass = Não'),\n",
       " Text(0.6071428571428571, 0.5, 'x[6] <= 2.5\\ngini = 0.375\\nsamples = 16\\nvalue = [4, 12]\\nclass = Sim'),\n",
       " Text(0.5714285714285714, 0.3, 'gini = 0.0\\nsamples = 11\\nvalue = [0, 11]\\nclass = Sim'),\n",
       " Text(0.6428571428571429, 0.3, 'x[5] <= 2.5\\ngini = 0.32\\nsamples = 5\\nvalue = [4, 1]\\nclass = Não'),\n",
       " Text(0.6071428571428571, 0.1, 'gini = 0.0\\nsamples = 3\\nvalue = [3, 0]\\nclass = Não'),\n",
       " Text(0.6785714285714286, 0.1, 'gini = 0.5\\nsamples = 2\\nvalue = [1, 1]\\nclass = Não'),\n",
       " Text(0.8571428571428571, 0.5, 'x[4] <= 1.5\\ngini = 0.282\\nsamples = 418\\nvalue = [347, 71]\\nclass = Não'),\n",
       " Text(0.7857142857142857, 0.3, 'x[5] <= 43.0\\ngini = 0.458\\nsamples = 90\\nvalue = [58, 32]\\nclass = Não'),\n",
       " Text(0.75, 0.1, 'gini = 0.499\\nsamples = 52\\nvalue = [27, 25]\\nclass = Não'),\n",
       " Text(0.8214285714285714, 0.1, 'gini = 0.301\\nsamples = 38\\nvalue = [31, 7]\\nclass = Não'),\n",
       " Text(0.9285714285714286, 0.3, 'x[1] <= 0.5\\ngini = 0.21\\nsamples = 328\\nvalue = [289, 39]\\nclass = Não'),\n",
       " Text(0.8928571428571429, 0.1, 'gini = 0.19\\nsamples = 291\\nvalue = [260, 31]\\nclass = Não'),\n",
       " Text(0.9642857142857143, 0.1, 'gini = 0.339\\nsamples = 37\\nvalue = [29, 8]\\nclass = Não')]"
      ]
     },
     "execution_count": 19,
     "metadata": {},
     "output_type": "execute_result"
    },
    {
     "data": {
      "image/png": "[encoded data removed]",
      "text/plain": [
       "<Figure size 1500x600 with 1 Axes>"
      ]
     },
     "metadata": {},
     "output_type": "display_data"
    }
   ],
   "source": [
    "plt.figure(figsize = (15, 6))\n",
    "plot_tree(arvore, filled = True, class_names = ['Não', 'Sim'], fontsize = 7, rounded = True)"
   ]
  },
  {
   "cell_type": "code",
   "execution_count": 20,
   "id": "47b70f8d",
   "metadata": {
    "execution": {
     "iopub.execute_input": "2024-02-15T19:20:32.242804Z",
     "iopub.status.busy": "2024-02-15T19:20:32.241848Z",
     "iopub.status.idle": "2024-02-15T19:20:32.269662Z",
     "shell.execute_reply": "2024-02-15T19:20:32.268574Z"
    },
    "papermill": {
     "duration": 0.050447,
     "end_time": "2024-02-15T19:20:32.272116",
     "exception": false,
     "start_time": "2024-02-15T19:20:32.221669",
     "status": "completed"
    },
    "tags": []
   },
   "outputs": [
    {
     "data": {
      "text/html": [
       "<div>\n",
       "<style scoped>\n",
       "    .dataframe tbody tr th:only-of-type {\n",
       "        vertical-align: middle;\n",
       "    }\n",
       "\n",
       "    .dataframe tbody tr th {\n",
       "        vertical-align: top;\n",
       "    }\n",
       "\n",
       "    .dataframe thead th {\n",
       "        text-align: right;\n",
       "    }\n",
       "</style>\n",
       "<table border=\"1\" class=\"dataframe\">\n",
       "  <thead>\n",
       "    <tr style=\"text-align: right;\">\n",
       "      <th></th>\n",
       "      <th>0</th>\n",
       "      <th>1</th>\n",
       "      <th>2</th>\n",
       "      <th>3</th>\n",
       "      <th>4</th>\n",
       "      <th>5</th>\n",
       "      <th>6</th>\n",
       "      <th>7</th>\n",
       "      <th>8</th>\n",
       "    </tr>\n",
       "  </thead>\n",
       "  <tbody>\n",
       "    <tr>\n",
       "      <th>0</th>\n",
       "      <td>1.0</td>\n",
       "      <td>1.0</td>\n",
       "      <td>0.0</td>\n",
       "      <td>0.0</td>\n",
       "      <td>1.0</td>\n",
       "      <td>0.365929</td>\n",
       "      <td>0.000</td>\n",
       "      <td>0.000000</td>\n",
       "      <td>0.014110</td>\n",
       "    </tr>\n",
       "    <tr>\n",
       "      <th>1</th>\n",
       "      <td>1.0</td>\n",
       "      <td>0.0</td>\n",
       "      <td>0.0</td>\n",
       "      <td>1.0</td>\n",
       "      <td>0.0</td>\n",
       "      <td>0.470566</td>\n",
       "      <td>0.125</td>\n",
       "      <td>0.000000</td>\n",
       "      <td>0.175668</td>\n",
       "    </tr>\n",
       "    <tr>\n",
       "      <th>2</th>\n",
       "      <td>0.0</td>\n",
       "      <td>0.0</td>\n",
       "      <td>1.0</td>\n",
       "      <td>0.0</td>\n",
       "      <td>1.0</td>\n",
       "      <td>0.365929</td>\n",
       "      <td>0.000</td>\n",
       "      <td>0.333333</td>\n",
       "      <td>0.015127</td>\n",
       "    </tr>\n",
       "    <tr>\n",
       "      <th>3</th>\n",
       "      <td>0.0</td>\n",
       "      <td>0.0</td>\n",
       "      <td>0.0</td>\n",
       "      <td>1.0</td>\n",
       "      <td>0.0</td>\n",
       "      <td>0.432749</td>\n",
       "      <td>0.125</td>\n",
       "      <td>0.000000</td>\n",
       "      <td>0.162932</td>\n",
       "    </tr>\n",
       "    <tr>\n",
       "      <th>4</th>\n",
       "      <td>1.0</td>\n",
       "      <td>0.0</td>\n",
       "      <td>0.0</td>\n",
       "      <td>1.0</td>\n",
       "      <td>1.0</td>\n",
       "      <td>0.357116</td>\n",
       "      <td>0.000</td>\n",
       "      <td>0.000000</td>\n",
       "      <td>0.015371</td>\n",
       "    </tr>\n",
       "    <tr>\n",
       "      <th>...</th>\n",
       "      <td>...</td>\n",
       "      <td>...</td>\n",
       "      <td>...</td>\n",
       "      <td>...</td>\n",
       "      <td>...</td>\n",
       "      <td>...</td>\n",
       "      <td>...</td>\n",
       "      <td>...</td>\n",
       "      <td>...</td>\n",
       "    </tr>\n",
       "    <tr>\n",
       "      <th>663</th>\n",
       "      <td>1.0</td>\n",
       "      <td>0.0</td>\n",
       "      <td>0.0</td>\n",
       "      <td>1.0</td>\n",
       "      <td>1.0</td>\n",
       "      <td>0.365929</td>\n",
       "      <td>0.000</td>\n",
       "      <td>0.000000</td>\n",
       "      <td>0.015835</td>\n",
       "    </tr>\n",
       "    <tr>\n",
       "      <th>664</th>\n",
       "      <td>0.0</td>\n",
       "      <td>0.0</td>\n",
       "      <td>1.0</td>\n",
       "      <td>0.0</td>\n",
       "      <td>1.0</td>\n",
       "      <td>0.365929</td>\n",
       "      <td>0.000</td>\n",
       "      <td>0.000000</td>\n",
       "      <td>0.015127</td>\n",
       "    </tr>\n",
       "    <tr>\n",
       "      <th>665</th>\n",
       "      <td>0.0</td>\n",
       "      <td>1.0</td>\n",
       "      <td>0.0</td>\n",
       "      <td>0.0</td>\n",
       "      <td>0.5</td>\n",
       "      <td>0.331905</td>\n",
       "      <td>0.125</td>\n",
       "      <td>0.000000</td>\n",
       "      <td>0.027050</td>\n",
       "    </tr>\n",
       "    <tr>\n",
       "      <th>666</th>\n",
       "      <td>1.0</td>\n",
       "      <td>0.0</td>\n",
       "      <td>0.0</td>\n",
       "      <td>1.0</td>\n",
       "      <td>0.5</td>\n",
       "      <td>0.256271</td>\n",
       "      <td>0.125</td>\n",
       "      <td>0.000000</td>\n",
       "      <td>0.022447</td>\n",
       "    </tr>\n",
       "    <tr>\n",
       "      <th>667</th>\n",
       "      <td>1.0</td>\n",
       "      <td>0.0</td>\n",
       "      <td>0.0</td>\n",
       "      <td>1.0</td>\n",
       "      <td>1.0</td>\n",
       "      <td>0.268877</td>\n",
       "      <td>0.125</td>\n",
       "      <td>0.000000</td>\n",
       "      <td>0.014151</td>\n",
       "    </tr>\n",
       "  </tbody>\n",
       "</table>\n",
       "<p>668 rows × 9 columns</p>\n",
       "</div>"
      ],
      "text/plain": [
       "       0    1    2    3    4         5      6         7         8\n",
       "0    1.0  1.0  0.0  0.0  1.0  0.365929  0.000  0.000000  0.014110\n",
       "1    1.0  0.0  0.0  1.0  0.0  0.470566  0.125  0.000000  0.175668\n",
       "2    0.0  0.0  1.0  0.0  1.0  0.365929  0.000  0.333333  0.015127\n",
       "3    0.0  0.0  0.0  1.0  0.0  0.432749  0.125  0.000000  0.162932\n",
       "4    1.0  0.0  0.0  1.0  1.0  0.357116  0.000  0.000000  0.015371\n",
       "..   ...  ...  ...  ...  ...       ...    ...       ...       ...\n",
       "663  1.0  0.0  0.0  1.0  1.0  0.365929  0.000  0.000000  0.015835\n",
       "664  0.0  0.0  1.0  0.0  1.0  0.365929  0.000  0.000000  0.015127\n",
       "665  0.0  1.0  0.0  0.0  0.5  0.331905  0.125  0.000000  0.027050\n",
       "666  1.0  0.0  0.0  1.0  0.5  0.256271  0.125  0.000000  0.022447\n",
       "667  1.0  0.0  0.0  1.0  1.0  0.268877  0.125  0.000000  0.014151\n",
       "\n",
       "[668 rows x 9 columns]"
      ]
     },
     "execution_count": 20,
     "metadata": {},
     "output_type": "execute_result"
    }
   ],
   "source": [
    "normalizacao = MinMaxScaler()\n",
    "x_treino_normalizado = normalizacao.fit_transform(treino_x)\n",
    "\n",
    "\n",
    "pd.DataFrame(x_treino_normalizado)"
   ]
  },
  {
   "cell_type": "code",
   "execution_count": 21,
   "id": "fda4a814",
   "metadata": {
    "execution": {
     "iopub.execute_input": "2024-02-15T19:20:32.312109Z",
     "iopub.status.busy": "2024-02-15T19:20:32.310851Z",
     "iopub.status.idle": "2024-02-15T19:20:32.319152Z",
     "shell.execute_reply": "2024-02-15T19:20:32.318152Z"
    },
    "papermill": {
     "duration": 0.032084,
     "end_time": "2024-02-15T19:20:32.321980",
     "exception": false,
     "start_time": "2024-02-15T19:20:32.289896",
     "status": "completed"
    },
    "tags": []
   },
   "outputs": [],
   "source": [
    "knn = KNeighborsClassifier(metric='euclidean')\n",
    "\n",
    "knn.fit(x_treino_normalizado, treino_y)\n",
    "\n",
    "x_teste_normalizado = normalizacao.transform(teste_x)"
   ]
  },
  {
   "cell_type": "code",
   "execution_count": 22,
   "id": "226730cd",
   "metadata": {
    "execution": {
     "iopub.execute_input": "2024-02-15T19:20:32.360070Z",
     "iopub.status.busy": "2024-02-15T19:20:32.359288Z",
     "iopub.status.idle": "2024-02-15T19:20:32.388445Z",
     "shell.execute_reply": "2024-02-15T19:20:32.387072Z"
    },
    "papermill": {
     "duration": 0.051649,
     "end_time": "2024-02-15T19:20:32.391229",
     "exception": false,
     "start_time": "2024-02-15T19:20:32.339580",
     "status": "completed"
    },
    "tags": []
   },
   "outputs": [
    {
     "data": {
      "text/plain": [
       "0.7757847533632287"
      ]
     },
     "execution_count": 22,
     "metadata": {},
     "output_type": "execute_result"
    }
   ],
   "source": [
    "knn.score(x_teste_normalizado, teste_y)"
   ]
  },
  {
   "cell_type": "code",
   "execution_count": 23,
   "id": "51c530f0",
   "metadata": {
    "execution": {
     "iopub.execute_input": "2024-02-15T19:20:32.428905Z",
     "iopub.status.busy": "2024-02-15T19:20:32.428371Z",
     "iopub.status.idle": "2024-02-15T19:20:32.462969Z",
     "shell.execute_reply": "2024-02-15T19:20:32.461285Z"
    },
    "papermill": {
     "duration": 0.056926,
     "end_time": "2024-02-15T19:20:32.465995",
     "exception": false,
     "start_time": "2024-02-15T19:20:32.409069",
     "status": "completed"
    },
    "tags": []
   },
   "outputs": [
    {
     "name": "stdout",
     "output_type": "stream",
     "text": [
      "A acurácia do dataset de treino do modelo Dummy é: 0.6143497757847534\n",
      "A acurácia do dataset de treino do modelo árvore é: 0.8340807174887892\n",
      "A acurácia do dataset de treino do modelo KNN é: 0.7757847533632287\n",
      "A acurácia do dataset de treino do modelo linearSVC é: 0.7757847533632287\n"
     ]
    }
   ],
   "source": [
    "print(f'A acurácia do dataset de treino do modelo Dummy é: {dummy.score(teste_x, teste_y)}')\n",
    "print(f'A acurácia do dataset de treino do modelo árvore é: {arvore.score(teste_x, teste_y)}')\n",
    "print(f'A acurácia do dataset de treino do modelo KNN é: {knn.score(x_teste_normalizado, teste_y)}')\n",
    "print(f'A acurácia do dataset de treino do modelo linearSVC é: {linear.score(teste_x, teste_y)}')"
   ]
  },
  {
   "cell_type": "code",
   "execution_count": 24,
   "id": "7e0be916",
   "metadata": {
    "execution": {
     "iopub.execute_input": "2024-02-15T19:20:32.596838Z",
     "iopub.status.busy": "2024-02-15T19:20:32.595929Z",
     "iopub.status.idle": "2024-02-15T19:20:32.623355Z",
     "shell.execute_reply": "2024-02-15T19:20:32.622116Z"
    },
    "papermill": {
     "duration": 0.052287,
     "end_time": "2024-02-15T19:20:32.626269",
     "exception": false,
     "start_time": "2024-02-15T19:20:32.573982",
     "status": "completed"
    },
    "tags": []
   },
   "outputs": [],
   "source": [
    "prediction_arvore = arvore.predict(teste_x)\n",
    "prediction_knn = knn.predict(teste_x)\n",
    "prediction_linearSVC = linear.predict(teste_x)"
   ]
  },
  {
   "cell_type": "code",
   "execution_count": 25,
   "id": "9e224c8d",
   "metadata": {
    "execution": {
     "iopub.execute_input": "2024-02-15T19:20:32.666888Z",
     "iopub.status.busy": "2024-02-15T19:20:32.665716Z",
     "iopub.status.idle": "2024-02-15T19:20:32.678769Z",
     "shell.execute_reply": "2024-02-15T19:20:32.677236Z"
    },
    "papermill": {
     "duration": 0.03583,
     "end_time": "2024-02-15T19:20:32.681565",
     "exception": false,
     "start_time": "2024-02-15T19:20:32.645735",
     "status": "completed"
    },
    "tags": []
   },
   "outputs": [
    {
     "name": "stdout",
     "output_type": "stream",
     "text": [
      "Matriz de confusão do modelo Árvore:\n",
      "[[123  14]\n",
      " [ 23  63]]\n",
      "Matriz de confusão do modelo KNN:\n",
      "[[82 55]\n",
      " [26 60]]\n",
      "Matriz de confusão do modelo linear SVC:\n",
      "[[105  32]\n",
      " [ 18  68]]\n"
     ]
    }
   ],
   "source": [
    "print(f'Matriz de confusão do modelo Árvore:\\n{confusion_matrix(teste_y, prediction_arvore)}')\n",
    "print(f'Matriz de confusão do modelo KNN:\\n{confusion_matrix(teste_y, prediction_knn)}')\n",
    "print(f'Matriz de confusão do modelo linear SVC:\\n{confusion_matrix(teste_y, prediction_linearSVC)}')\n"
   ]
  },
  {
   "cell_type": "code",
   "execution_count": 26,
   "id": "c39802dd",
   "metadata": {
    "execution": {
     "iopub.execute_input": "2024-02-15T19:20:32.722202Z",
     "iopub.status.busy": "2024-02-15T19:20:32.720890Z",
     "iopub.status.idle": "2024-02-15T19:20:32.732756Z",
     "shell.execute_reply": "2024-02-15T19:20:32.731050Z"
    },
    "papermill": {
     "duration": 0.035108,
     "end_time": "2024-02-15T19:20:32.735662",
     "exception": false,
     "start_time": "2024-02-15T19:20:32.700554",
     "status": "completed"
    },
    "tags": []
   },
   "outputs": [
    {
     "name": "stdout",
     "output_type": "stream",
     "text": [
      "Acurácia do modelo Árvore:\n",
      "0.8340807174887892\n",
      "Acurácia do modelo KNN:\n",
      "0.6367713004484304\n",
      "Acurácia do modelo linear SVC:\n",
      "0.7757847533632287\n"
     ]
    }
   ],
   "source": [
    "print(f'Acurácia do modelo Árvore:\\n{accuracy_score(teste_y, prediction_arvore)}')\n",
    "print(f'Acurácia do modelo KNN:\\n{accuracy_score(teste_y, prediction_knn)}')\n",
    "print(f'Acurácia do modelo linear SVC:\\n{accuracy_score(teste_y, prediction_linearSVC)}')"
   ]
  },
  {
   "cell_type": "code",
   "execution_count": 27,
   "id": "8f09a419",
   "metadata": {
    "execution": {
     "iopub.execute_input": "2024-02-15T19:20:32.779307Z",
     "iopub.status.busy": "2024-02-15T19:20:32.778765Z",
     "iopub.status.idle": "2024-02-15T19:20:32.797487Z",
     "shell.execute_reply": "2024-02-15T19:20:32.795576Z"
    },
    "papermill": {
     "duration": 0.044759,
     "end_time": "2024-02-15T19:20:32.800604",
     "exception": false,
     "start_time": "2024-02-15T19:20:32.755845",
     "status": "completed"
    },
    "tags": []
   },
   "outputs": [
    {
     "name": "stdout",
     "output_type": "stream",
     "text": [
      "Precisão do modelo Árvore:\n",
      "0.8181818181818182\n",
      "Precisão do modelo KNN:\n",
      "0.5217391304347826\n",
      "Precisão do modelo linear SVC:\n",
      "0.68\n"
     ]
    }
   ],
   "source": [
    "print(f'Precisão do modelo Árvore:\\n{precision_score(teste_y, prediction_arvore)}')\n",
    "print(f'Precisão do modelo KNN:\\n{precision_score(teste_y, prediction_knn)}')\n",
    "print(f'Precisão do modelo linear SVC:\\n{precision_score(teste_y, prediction_linearSVC)}')"
   ]
  },
  {
   "cell_type": "code",
   "execution_count": 28,
   "id": "eda106a4",
   "metadata": {
    "execution": {
     "iopub.execute_input": "2024-02-15T19:20:32.843449Z",
     "iopub.status.busy": "2024-02-15T19:20:32.842171Z",
     "iopub.status.idle": "2024-02-15T19:20:32.861947Z",
     "shell.execute_reply": "2024-02-15T19:20:32.860030Z"
    },
    "papermill": {
     "duration": 0.043816,
     "end_time": "2024-02-15T19:20:32.864917",
     "exception": false,
     "start_time": "2024-02-15T19:20:32.821101",
     "status": "completed"
    },
    "tags": []
   },
   "outputs": [
    {
     "name": "stdout",
     "output_type": "stream",
     "text": [
      "O Recall do modelo Árvore:\n",
      "0.7325581395348837\n",
      "O Recall do modelo KNN:\n",
      "0.6976744186046512\n",
      "O Recall do modelo linear SVC:\n",
      "0.7906976744186046\n"
     ]
    }
   ],
   "source": [
    "print(f'O Recall do modelo Árvore:\\n{recall_score(teste_y, prediction_arvore)}')\n",
    "print(f'O Recall do modelo KNN:\\n{recall_score(teste_y, prediction_knn)}')\n",
    "print(f'O Recall do modelo linear SVC:\\n{recall_score(teste_y, prediction_linearSVC)}')"
   ]
  },
  {
   "cell_type": "code",
   "execution_count": 29,
   "id": "0ccb73ef",
   "metadata": {
    "execution": {
     "iopub.execute_input": "2024-02-15T19:20:32.905152Z",
     "iopub.status.busy": "2024-02-15T19:20:32.904641Z",
     "iopub.status.idle": "2024-02-15T19:20:32.916221Z",
     "shell.execute_reply": "2024-02-15T19:20:32.914771Z"
    },
    "papermill": {
     "duration": 0.034943,
     "end_time": "2024-02-15T19:20:32.918937",
     "exception": false,
     "start_time": "2024-02-15T19:20:32.883994",
     "status": "completed"
    },
    "tags": []
   },
   "outputs": [
    {
     "data": {
      "text/plain": [
       "array([0, 0, 0, 0, 1, 0, 1, 0, 1, 0, 0, 0, 1, 0, 1, 1, 0, 0, 0, 0, 0, 0,\n",
       "       1, 1, 1, 0, 1, 0, 0, 0, 0, 0, 0, 1, 1, 0, 0, 1, 0, 0, 0, 1, 0, 1,\n",
       "       1, 0, 0, 0, 1, 0, 1, 0, 1, 1, 0, 0, 0, 0, 0, 1, 0, 0, 0, 1, 1, 1,\n",
       "       1, 0, 1, 1, 1, 0, 1, 1, 1, 1, 0, 1, 0, 1, 0, 1, 0, 0, 0, 0, 1, 1,\n",
       "       1, 1, 1, 0, 1, 0, 1, 0, 1, 0, 1, 0, 1, 0, 0, 0, 1, 0, 0, 0, 0, 0,\n",
       "       0, 1, 1, 1, 1, 0, 0, 1, 1, 1, 1, 0, 1, 0, 0, 1, 0, 1, 0, 0, 0, 0,\n",
       "       1, 0, 0, 0, 0, 0, 1, 0, 1, 1, 1, 0, 0, 0, 1, 0, 1, 0, 1, 0, 0, 0,\n",
       "       0, 0, 1, 1, 0, 1, 1, 0, 1, 0, 0, 1, 1, 0, 1, 1, 0, 0, 0, 0, 0, 1,\n",
       "       1, 0, 1, 1, 0, 1, 1, 0, 1, 0, 1, 0, 0, 0, 0, 1, 0, 0, 1, 0, 1, 1,\n",
       "       0, 0, 1, 0, 1, 1, 0, 1, 1, 0, 1, 0, 0, 0, 1, 0, 0, 0, 1, 1, 1, 0,\n",
       "       1, 0, 1, 0, 1, 1, 0, 1, 0, 0, 1, 1, 0, 0, 1, 0, 0, 0, 1, 1, 1, 1,\n",
       "       1, 0, 0, 0, 1, 0, 1, 1, 1, 0, 1, 0, 0, 0, 0, 0, 1, 0, 0, 0, 1, 1,\n",
       "       0, 0, 0, 0, 0, 0, 1, 0, 1, 1, 0, 1, 0, 0, 0, 0, 1, 0, 1, 1, 1, 0,\n",
       "       0, 1, 0, 0, 1, 1, 0, 0, 0, 0, 1, 0, 1, 0, 0, 0, 0, 0, 1, 1, 1, 0,\n",
       "       0, 0, 0, 0, 0, 0, 1, 1, 1, 0, 0, 0, 0, 0, 0, 0, 1, 0, 1, 1, 0, 0,\n",
       "       1, 1, 0, 1, 0, 1, 0, 0, 0, 0, 0, 0, 0, 1, 0, 1, 0, 0, 0, 1, 1, 0,\n",
       "       1, 0, 1, 0, 1, 0, 0, 0, 0, 1, 1, 0, 1, 1, 0, 1, 1, 0, 0, 1, 0, 0,\n",
       "       1, 1, 0, 0, 0, 0, 0, 0, 1, 1, 0, 1, 0, 0, 0, 0, 1, 1, 0, 0, 0, 1,\n",
       "       0, 1, 0, 0, 1, 0, 1, 1, 0, 0, 0, 1, 1, 1, 1, 1, 1, 0, 1, 0, 0, 0])"
      ]
     },
     "execution_count": 29,
     "metadata": {},
     "output_type": "execute_result"
    }
   ],
   "source": [
    "prediction = linear.predict(X_exercicio)\n",
    "prediction"
   ]
  },
  {
   "cell_type": "code",
   "execution_count": 30,
   "id": "bd33950e",
   "metadata": {
    "execution": {
     "iopub.execute_input": "2024-02-15T19:20:32.961498Z",
     "iopub.status.busy": "2024-02-15T19:20:32.960856Z",
     "iopub.status.idle": "2024-02-15T19:20:32.972343Z",
     "shell.execute_reply": "2024-02-15T19:20:32.971126Z"
    },
    "papermill": {
     "duration": 0.03673,
     "end_time": "2024-02-15T19:20:32.975524",
     "exception": false,
     "start_time": "2024-02-15T19:20:32.938794",
     "status": "completed"
    },
    "tags": []
   },
   "outputs": [],
   "source": [
    "output = pd.DataFrame({'PassengerId': test_data.PassengerId, 'Survived': prediction})\n",
    "output.to_csv('submission1.csv', index=False)"
   ]
  },
  {
   "cell_type": "code",
   "execution_count": null,
   "id": "5a6f5f2f",
   "metadata": {
    "papermill": {
     "duration": 0.019371,
     "end_time": "2024-02-15T19:20:33.016468",
     "exception": false,
     "start_time": "2024-02-15T19:20:32.997097",
     "status": "completed"
    },
    "tags": []
   },
   "outputs": [],
   "source": []
  }
 ],
 "metadata": {
  "kaggle": {
   "accelerator": "none",
   "dataSources": [
    {
     "databundleVersionId": 26502,
     "sourceId": 3136,
     "sourceType": "competition"
    }
   ],
   "dockerImageVersionId": 30626,
   "isGpuEnabled": false,
   "isInternetEnabled": false,
   "language": "python",
   "sourceType": "notebook"
  },
  "kernelspec": {
   "display_name": "Python 3",
   "language": "python",
   "name": "python3"
  },
  "language_info": {
   "codemirror_mode": {
    "name": "ipython",
    "version": 3
   },
   "file_extension": ".py",
   "mimetype": "text/x-python",
   "name": "python",
   "nbconvert_exporter": "python",
   "pygments_lexer": "ipython3",
   "version": "3.10.12"
  },
  "papermill": {
   "default_parameters": {},
   "duration": 12.534509,
   "end_time": "2024-02-15T19:20:33.961239",
   "environment_variables": {},
   "exception": null,
   "input_path": "__notebook__.ipynb",
   "output_path": "__notebook__.ipynb",
   "parameters": {},
   "start_time": "2024-02-15T19:20:21.426730",
   "version": "2.4.0"
  }
 },
 "nbformat": 4,
 "nbformat_minor": 5
}
